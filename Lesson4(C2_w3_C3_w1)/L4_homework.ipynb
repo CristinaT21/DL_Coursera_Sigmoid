{
 "cells": [
  {
   "cell_type": "markdown",
   "metadata": {},
   "source": [
    "### Homework Nr. 4\n",
    "#### Tasks:\n",
    "1. Complete week 2 of third course and week 1 of fourth course from specialization;\n",
    "2. Complete the practical task.\n",
    "\n",
    "#### Practical Task:\n",
    "This week we will do something very different, instead of using a model-centric approach (meaning we have the\n",
    "data fixed and we change the model and its hyperparameters) we will do a data-centric approach (meaning we have\n",
    "the model fixed and we change the data and its preprocessing steps).\n",
    "We have a similar to MNIST digits dataset, but with Roman numerals.\n",
    "\n",
    "Your task is to:\n",
    "1. Analyze the dataset\n",
    "2. Clean the dataset, fix incorrect labels\n",
    "3. Add your own data (your images, image augmentation, etc.).\n",
    "    If you choose to create your own data, you may find this script helpful for converting your images: convert.py\n",
    "4. Decide your train/val splits\n",
    "5. Don't touch the test set, it's a fixed set for evaluation\n",
    "6. Train and test the model (run train.py)\n",
    "7. Iterate over this steps, and try to improve the results\n",
    "8. Draw conclusions and see what are the differences\n",
    "\n",
    "Good luck!"
   ]
  },
  {
   "cell_type": "markdown",
   "metadata": {},
   "source": [
    "# Solving the HW"
   ]
  },
  {
   "cell_type": "markdown",
   "metadata": {},
   "source": [
    "#### These are definetely not numbers\n",
    "\n",
    "![star_heart](img/Screenshot%202025-01-02%20221753.png)\n",
    "![star_heart](img/Screenshot%202025-01-02%20222517.png)\n",
    "![star_heart](img/Screenshot%202025-01-02%20223210.png)\n",
    "![star_heart](img/Screenshot%202025-01-02%20223214.png)\n",
    "![star_heart](img/Screenshot%202025-01-02%20223220.png)\n",
    "![star_heart](img/Screenshot%202025-01-02%20223319.png)\n",
    "![star_heart](img/Screenshot%202025-01-02%20223438.png)\n",
    "![star_heart](img/Screenshot%202025-01-02%20225116.png)\n",
    "![star_heart](img/Screenshot%202025-01-02%20225759.png)"
   ]
  },
  {
   "cell_type": "markdown",
   "metadata": {},
   "source": [
    "### See the accuracy of the model on the test set without any modification."
   ]
  },
  {
   "cell_type": "markdown",
   "metadata": {},
   "source": [
    "![original_output](img/Screenshot%202025-01-02%20213450.png)"
   ]
  },
  {
   "cell_type": "markdown",
   "metadata": {},
   "source": [
    "First try of moving wrong numbers(wrong labeling) and removing scribbles(heart, smile, circle...)\n",
    "\n",
    "![1_output](img/Screenshot%202025-01-02%20232627.png)\n",
    "\n",
    "So from 62% got to 74%."
   ]
  },
  {
   "cell_type": "markdown",
   "metadata": {},
   "source": [
    "After deeper cleanning(some mistakes missed from first cleaning)\n",
    "\n",
    "![1_output](img/Screenshot%202025-01-03%20000856.png)\n",
    "\n",
    "Only 2% improvement from the last try."
   ]
  },
  {
   "cell_type": "markdown",
   "metadata": {},
   "source": [
    "Now I will try this:\n",
    "```python\n",
    "    transform = transforms.Compose([\n",
    "        transforms.Lambda(lambda x: ImageEnhance.Brightness(x).enhance(1+brightness)),  # Apply brightness\n",
    "        transforms.Lambda(lambda x: ImageEnhance.Contrast(x).enhance(1+contrast)),    # Apply contrast\n",
    "        transforms.RandomRotation(degrees=degrees),\n",
    "         transforms.RandomResizedCrop(size=(256, 256),scale=(0.9, 1.0)),\n",
    "    ])\n",
    "```"
   ]
  },
  {
   "cell_type": "markdown",
   "metadata": {},
   "source": [
    "![1_output](img/Screenshot%202025-01-09%20004857.png)"
   ]
  },
  {
   "cell_type": "markdown",
   "metadata": {},
   "source": []
  }
 ],
 "metadata": {
  "kernelspec": {
   "display_name": "Python 3",
   "language": "python",
   "name": "python3"
  },
  "language_info": {
   "codemirror_mode": {
    "name": "ipython",
    "version": 3
   },
   "file_extension": ".py",
   "mimetype": "text/x-python",
   "name": "python",
   "nbconvert_exporter": "python",
   "pygments_lexer": "ipython3",
   "version": "3.11.3"
  }
 },
 "nbformat": 4,
 "nbformat_minor": 2
}
