{
 "cells": [
  {
   "cell_type": "markdown",
   "metadata": {},
   "source": [
    "### Homework Nr. 1\n",
    "#### Tasks:\n",
    "1. Complete week 3 and 4 of the first course from specialization;\n",
    "2. Go step by step and try to remember and understand everything we did during the lesson;\n",
    "3. Complete the practical Task\n",
    "\n",
    "#### Practical Task:\n",
    "Implement a logistic regression model using PyTorch to classify images from the MNIST dataset.\n",
    "1. Implement all needed libraries\n",
    "2. Load and display few images from the dataset\n",
    "3. Train-test split\n",
    "4. Create DataLoaders for each set\n",
    "5. Create Neural Network Class\n",
    "6. Create Training and Testing loop\n",
    "7. Train your model\n",
    "8. Test your model\n",
    "9. Output your results (accuracy and prediction examples)\n",
    "10. Draw conclusions\n",
    "\n",
    "\n",
    "Good luck!"
   ]
  }
 ],
 "metadata": {
  "language_info": {
   "name": "python"
  }
 },
 "nbformat": 4,
 "nbformat_minor": 2
}
