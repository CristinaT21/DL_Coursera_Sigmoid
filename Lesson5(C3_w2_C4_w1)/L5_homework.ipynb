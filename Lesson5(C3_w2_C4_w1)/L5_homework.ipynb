{
 "cells": [
  {
   "cell_type": "markdown",
   "metadata": {},
   "source": [
    "### Homework Nr. 5\n",
    "#### Tasks:\n",
    "1. Complete week 2 and 3 of the fourth course from specialization;\n",
    "2. Go step by step and try to remember and understand everything we did during the lesson;\n",
    "3. Apply different techniques of image preprocessing to the images from `low quality documents' folder and save all your experiments in a notebook.\n",
    "    Techniques to try:\n",
    "    - Image denoising\n",
    "    - errosion and dilation\n",
    "    - thresholding\n",
    "    - edge detection\n",
    "    - histogram equalization\n",
    "P.S. Try and clean image 1 and 2 from the dark spots and noise.\n",
    "P.P.S. The code attached just shows how to use the functions, you should test the techniques themselves, and different parameters on these techniques, like the iterations on erosion and dilation.\n",
    "4. Implement Image classification model to classify the images from `document_classification.rar' file. You will have to split the data into train and test sets yourself. Implement a custom CNN network yourself, in addition, try to use transfer learning and see the difference.\n",
    "5. Bonus task: Use CAM (convolutional activation maps) to visualize the regions of the image that are important for the classification.\n",
    "6. What conclusions can you make from the results from all tasks?\n",
    "\n",
    "Good luck!"
   ]
  },
  {
   "cell_type": "markdown",
   "metadata": {},
   "source": []
  }
 ],
 "metadata": {
  "language_info": {
   "name": "python"
  }
 },
 "nbformat": 4,
 "nbformat_minor": 2
}
