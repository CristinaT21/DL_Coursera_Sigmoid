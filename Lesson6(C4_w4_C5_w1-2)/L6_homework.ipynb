{
 "cells": [
  {
   "cell_type": "markdown",
   "metadata": {},
   "source": [
    "### Homework Nr. 6\n",
    "#### Tasks:\n",
    "1. Complete week 4 of fourth course and week 1 and week 2 of the fifth course from specialization;\n",
    "2. Go step by step and try to remember and understand everything we did during the lesson;\n",
    "3. Train your own Object Detection model with Yolo (any version you wish, >= v8) (example tutorial https://www.youtube.com/watch?v=etjkjZoG2F0)\n",
    "4. Play with https://github.com/facebookresearch/sam2 SAM2 model from facebook, it's a really good segmentation model.\n",
    "    Although they say it's better to use WSL, I think a while ago I was able to run it on Windows, and also there is the HuggingFace version which should probably be easier to install in case you are on Windows.\n",
    "Good luck!"
   ]
  }
 ],
 "metadata": {
  "language_info": {
   "name": "python"
  }
 },
 "nbformat": 4,
 "nbformat_minor": 2
}
